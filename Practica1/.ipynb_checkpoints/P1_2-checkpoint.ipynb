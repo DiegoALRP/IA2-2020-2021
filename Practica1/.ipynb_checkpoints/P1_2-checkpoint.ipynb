{
 "cells": [
  {
   "cell_type": "markdown",
   "metadata": {},
   "source": [
    "__No te olvides de rellenar esto:__\n",
    "\n",
    "- Número de grupo:\n",
    "- Nombre de los integrantes del grupo:"
   ]
  },
  {
   "cell_type": "markdown",
   "metadata": {},
   "source": [
    "# Práctica 1\n",
    "\n",
    "> __Fecha de entrega: 11 de abril de 2021__\n",
    "\n",
    "\n",
    "## Parte 2: similitud semántica\n",
    "\n",
    "Una de las grandes ventajas de las representaciones estructuradas es que podemos aprovechar su estructura para calcular similitudes semánticas entre las entidades. En esta ocasión vamos a cacular la similitud entre dos conceptos como:\n",
    "\n",
    "$$Sim(A, B) = \\frac{\\delta(root, C)}{\\delta(root, C) + \\delta(C, A) + \\delta(C, B)}$$\n",
    "\n",
    "siendo:\n",
    "\n",
    "- $\\delta(X, Y)$ el __mínimo__ número de aristas que conecta A y B, siendo A más general que B.\n",
    "- $C = LCS(A, B)$ el concepto más específico de la jerarquía que es más general que A y B (_least common subsummer_).\n",
    "\n",
    "La idea tras esta similitud queda reflejada en la siguiente imagen:\n",
    "\n",
    "<img src=\"sim.png\" alt=\"Similitud\" style=\"width: 300px;\"/>\n",
    "\n",
    "En la práctica pueden existir distintos conceptos C que cumplen la definición de _least common subsummer_ de A y B por lo que es necesario definir cuál de ellos vamos a utilizar. En nuestro caso seleccionaremos __uno de los que maximiza el valor de similitud__. "
   ]
  },
  {
   "cell_type": "markdown",
   "metadata": {},
   "source": [
    "### 1) Obtener la taxonomía con la que vamos a trabajar\n",
    "\n",
    "Utiliza el [punto el acceso](https://query.wikidata.org/) SPARQL de Wikidata para ejecutar una consulta que devuelva todos los pares de entidades $(x, y)$ tal que $x$ es subconcepto directo de $y$ y ambos son un tipos de [instrumentos musicales (Q34379)](https://www.wikidata.org/wiki/Q34379). Debes recuperar tantos las URIs de la entidades como sus etiquetas.\n",
    "\n",
    "Escribe en la siguiente celda la consulta que has utilizado comentada adecuadamente."
   ]
  },
  {
   "cell_type": "raw",
   "metadata": {},
   "source": [
    "SELECT ?x ?xLabel ?y ?yLabel \n",
    "WHERE { \n",
    "  ?y wdt:P279* wd:Q34379. #Cualquier subclase del tipo instrumento musical\n",
    "  ?x wdt:P279 ?y; #X es subclase del tipo Y, por tanto es subconcepto directo\n",
    "  SERVICE wikibase:label { bd:serviceParam wikibase:language \"[AUTO_LANGUAGE],en\".}\n",
    "}"
   ]
  },
  {
   "cell_type": "markdown",
   "metadata": {},
   "source": [
    "A continuación descarga todas las respuestas en formato _Archivo JSON_ y guardalo en el mismo directorio de la práctica.\n",
    "\n",
    "_Nota: en el momento de realizar esta práctica obtuve 4727 resultados pero el número puede variar al ser Wikidata una base de conocimiento dinámica._"
   ]
  },
  {
   "cell_type": "markdown",
   "metadata": {},
   "source": [
    "### 2) Cargar la taxonomía en memoria\n",
    "\n",
    "Vamos a cargar la taxonomía de clases en memoria para poder operar con ella. Representaremos la jerarquía de lcases mediantes las siguientes estructuras:\n",
    "\n",
    "- Un diccionario que asocia a cada identificador su etiqueta (por ejemplo 'Q34379' -> 'musical instrument')\n",
    "- Un diccionario que asocia cada clase con sus subclases directas (por ejemplo 'Q695269' -> {'Q25630013', 'Q3388256', 'Q524526', 'Q846109', 'Q960389'} )\n",
    "- Un diccionario que asocia cada clase con sus superclases directas (por ejemplo 'Q34379' -> {'Q1879241', 'Q54820129'} )\n",
    "\n",
    "Tienes libertad para elegir cómo quieres representar la taxonomía en Python:\n",
    "\n",
    "- Puedes usar una clase. En ese caso tendrás que ir añadiendo métodos a la clase para completar cada uno de los apartados de la práctica. Escribe el código de la clase en una única celda y utiliza los métodos que necesites en cada uno de los apartados.\n",
    "- Puedes usar 3 variables globales para representar la taxonomía. En ese caso deberás escribir las operaciones como funciones en cada uno de los apartados de la práctica.\n",
    "\n",
    "En cualquier caso recuerda documentar adecuadamente el código y trata de que sea sencillo de entender.\n",
    "\n",
    "Crea una operación _load_ que reciba el nombre del fichero json y cargue el grafo en memoria usando las estructuras anteriores.\n",
    "\n",
    "```python\n",
    "import json\n",
    "\n",
    "with open(filename) as f:\n",
    "    data = json.load(f)\n",
    "```"
   ]
  },
  {
   "cell_type": "code",
   "execution_count": 238,
   "metadata": {},
   "outputs": [],
   "source": [
    "import json"
   ]
  },
  {
   "cell_type": "code",
   "execution_count": 548,
   "metadata": {},
   "outputs": [],
   "source": [
    "class Taxonomy:\n",
    "    \n",
    "    \"\"\"Inicialización de la taxonomía\"\"\"\n",
    "    def __init__(self):\n",
    "        #Diccionarios\n",
    "        self.dictionaryIdLabel = dict() #Par clave (id) - valor (label)\n",
    "        self.dictionaryClassSubclass = dict() #Par clave (id) - valor (lista de id de subclases)\n",
    "        self.dictionaryClassSuperclass = dict() #Par clave (id) - valor (lista de id de superclases)\n",
    "        \n",
    "        #Variables necesarias para la operacion path\n",
    "        self.minPath = list()\n",
    "        self.minDistance = 0\n",
    "        \n",
    "        \n",
    "    \"\"\"Carga del grafo en memoria\"\"\" \n",
    "    def load(self, jsonFile):\n",
    "        with open(jsonFile,encoding='utf-8') as f:\n",
    "            data = json.load(f)\n",
    "            \n",
    "        for d in data:\n",
    "            \n",
    "            #Coger etiqueta de X\n",
    "            labelX = d.get('xLabel')\n",
    "            #Coger identificador de X\n",
    "            idX = d.get('x')\n",
    "            idX = idX.replace('http://www.wikidata.org/entity/', '')\n",
    "            #Coger etiqueta de Y\n",
    "            labelY = d.get('yLabel')\n",
    "            #Coger identificador de Y\n",
    "            idY = d.get('y')\n",
    "            idY = idY.replace('http://www.wikidata.org/entity/', '')\n",
    "\n",
    "            \n",
    "            #Cargar X e Y en el diccionario que asocia cada identificador con su etiqueta\n",
    "            self.dictionaryIdLabel[idX] = labelX\n",
    "            self.dictionaryIdLabel[idY] = labelY\n",
    "                \n",
    "            #Cargar X como subclase de Y\n",
    "            \n",
    "            if self.dictionaryClassSubclass.get(idY) == None:\n",
    "                self.dictionaryClassSubclass[idY] = list()\n",
    "                \n",
    "            listaY = self.dictionaryClassSubclass.get(idY)\n",
    "            if idX not in listaY:\n",
    "                listaY.append(idX)\n",
    "        \n",
    "            #Cargar superclase de X\n",
    "            if self.dictionaryClassSuperclass.get(idX) == None:\n",
    "                self.dictionaryClassSuperclass[idX] = list()\n",
    "                \n",
    "            listaS = self.dictionaryClassSuperclass.get(idX)\n",
    "            if idY not in listaS:\n",
    "                listaS.append(idY)\n",
    "            \n",
    "    \"\"\"Mostrar por pantalla la jerarquía de la taxonomia desde una determinada clase\n",
    "    y hasta un determinado nivel de profundidad\"\"\"     \n",
    "    def print_tree(self, clase, i, numNiveles):\n",
    "        \n",
    "        s = \"\"\n",
    "        for j in range(i):\n",
    "            s += \"  \" \n",
    "        print(s, i, self.dictionaryIdLabel[clase], '('+clase+')')\n",
    "        \n",
    "        if (i < numNiveles):\n",
    "            for instrument in self.dictionaryClassSubclass[clase]:\n",
    "                #Si la subclase tiene mas subclases se hace llamada recursiva\n",
    "                #Si no se imprime subclase\n",
    "                if (instrument in self.dictionaryClassSubclass): \n",
    "                    self.print_tree(instrument, i + 1, numNiveles)\n",
    "                else:\n",
    "                    s = \"\"\n",
    "                    for j in range(i + 1):\n",
    "                        s += \"  \"\n",
    "                    print(s, i + 1, self.dictionaryIdLabel[instrument], '('+instrument+')')\n",
    "        \n",
    "        \n",
    "        \n",
    "    def LCSmio(self, A, B):\n",
    "        \n",
    "        sol=[]\n",
    "        \n",
    "        #Caso base: A == B\n",
    "        if A == B:\n",
    "            sol.append(A)\n",
    "            return sol\n",
    "        else:\n",
    "            #Coger superclases de A y comprobar si estan en B \n",
    "            for sA in self.dictionaryClassSuperclass[A]:\n",
    "                if sA in self.dictionaryClassSuperclass[B]: #Si coinciden se añade a la solucion\n",
    "                    sol.append(sA)\n",
    "                else: #Si no coincide buscar recursivamente en las superclases de sA\n",
    "                    aux = self.dictionaryClassSuperclass[sA];\n",
    "                    if not aux:\n",
    "                        aux.extend(LCS_rec(aux,B,sol))\n",
    "                        \n",
    "            #Coger superclases de B y comprobar si estan en A\n",
    "            for sB in self.dictionaryClassSuperclass[B]:\n",
    "                #Buscar recursivamente en las superclases de sB\n",
    "                aux = self.dictionaryClassSuperclass[sB];\n",
    "                if not aux:\n",
    "                    aux.extend(LCS_rec(aux,A,sol))\n",
    "            \n",
    "        return sol\n",
    "    \n",
    "    def LCS_rec(self, C1, C2, sol):\n",
    "        #Coger superclases de C1 y comprobar si estan en C2\n",
    "        for c in self.dictionaryClassSuperclass[C1]:\n",
    "            if c in self.dictionaryClassSuperclass[C2]: #Si coinciden se añade a la solucion\n",
    "                sol.append(c)\n",
    "            else:\n",
    "                LCS_rec(c,C2,sol)\n",
    "                \n",
    "        return sol\n",
    "    \n",
    "    \"\"\"Función que obtiene todas las superclases de una clase\"\"\"\n",
    "    def getAllSuperClasses(self, clase, listSuperClasses):\n",
    "        \n",
    "        if (clase in self.dictionaryClassSuperclass):\n",
    "            for instrument in self.dictionaryClassSuperclass[clase]:\n",
    "                listSuperClasses.append(instrument)\n",
    "                self.getAllSuperClasses(instrument, listSuperClasses)\n",
    "    \n",
    "    \n",
    "    \"\"\"Función que obtiene todas las subclases de una clase\"\"\"\n",
    "    def getAllSubClasses(self, clase, listSubClasses):\n",
    "        \n",
    "        if (clase in self.dictionaryClassSubclass):\n",
    "            for instrument in self.dictionaryClassSubclass[clase]:\n",
    "                listSubClasses.append(instrument)\n",
    "                self.getAllSubClasses(instrument, listSubClasses)\n",
    "                \n",
    "    \n",
    "    \"\"\"Least Common Subsummer\"\"\"\n",
    "    def LCS(self, classA, classB):\n",
    "        \n",
    "        listSuperClassesA = list()\n",
    "        listSuperClassesA.append(classA)\n",
    "        self.getAllSuperClasses(classA, listSuperClassesA)\n",
    "        listSuperClassesB = list()\n",
    "        listSuperClassesB.append(classB)\n",
    "        self.getAllSuperClasses(classB, listSuperClassesB)\n",
    "        \n",
    "        sol = list()\n",
    "        for instrument in listSuperClassesA:\n",
    "            if (instrument in listSuperClassesB):\n",
    "                if (len(sol) > 0):\n",
    "                    if (self.verify(instrument, sol)):\n",
    "                        sol.append(instrument)\n",
    "                else:\n",
    "                    sol.append(instrument)\n",
    "        \n",
    "        return (sol)\n",
    "    \n",
    "    \"\"\"Función que verifica que una clase no sea más\n",
    "    Específica que otra\"\"\"\n",
    "    def verify(self, instrument, solution):\n",
    "        \n",
    "        listSubClassesA = list()\n",
    "        listSubClassesA.append(instrument)\n",
    "        self.getAllSubClasses(instrument, listSubClassesA)\n",
    "        \n",
    "        encontrado = False\n",
    "        for sol in solution:\n",
    "            if sol in listSubClassesA:\n",
    "                encontrado = True\n",
    "        \n",
    "        return (not encontrado)\n",
    "    \n",
    "    \n",
    "    \"\"\"Función que encuentra el camino mínimo entre A y B\"\"\"\n",
    "    def path(self, A, B):\n",
    "        sol = list()\n",
    "        self.minDistance = 0\n",
    "        self.minPath = list()\n",
    "        self.minPath.append(A)\n",
    "        \n",
    "        if(A != B): #Encontrar camino hasta B desde A\n",
    "            path = self.minPath.copy()\n",
    "            distance = 1\n",
    "            self.find_path(A, B, distance, path) \n",
    "            \n",
    "        for i in self.minPath:\n",
    "            sol.append(self.dictionaryIdLabel[i]+' ('+i+')')\n",
    "       \n",
    "        return sol\n",
    "                \n",
    "\n",
    "    \"\"\"Función recursiva auxiliar para encontrar el camino mínimo\"\"\"            \n",
    "    def find_path(self, A, B, distance, path):\n",
    "        \n",
    "        if A in self.dictionaryClassSubclass:\n",
    "            for i in self.dictionaryClassSubclass[A]: #Recorrido en anchura\n",
    "                path.append(i) \n",
    "                \n",
    "                #Si encontramos a B devolvemos el camino con la distancia\n",
    "                #Si todavia no encontramos a B seguimos buscando en profundidad\n",
    "                if i == B: \n",
    "                    if self.minDistance == 0 or distance < self.minDistance:\n",
    "                        self.minPath = path.copy()\n",
    "                        self.minDistance = distance\n",
    "\n",
    "                else:  #Recorrido en profundidad\n",
    "                    self.find_path(i, B, distance+1, path)\n",
    "                    \n",
    "                path.remove(i)\n",
    "                \n",
    "    \"\"\"Función que calcula la similitud entre dos conceptos A y B.\n",
    "    Dicha similitud se calcula con la fórmula al inicio de este documento.\"\"\"   \n",
    "    def similarity(self, A, B):\n",
    "        C = self.LCS(A,B)\n",
    "        root = 'Q34379'\n",
    "        for i in C:\n",
    "            xPath = self.path(root,i) #Camino minimo entre la raiz y C\n",
    "            x = self.minDistance\n",
    "            yPath = self.path(i,A)    #Camino minimo entre C y A\n",
    "            y = self.minDistance\n",
    "            zPath = self.path(i,B)    #Camino minimo entre C y B\n",
    "            z = self.minDistance\n",
    "\n",
    "        \n",
    "        #Aplicar formula para obtener la similitud entre A y B\n",
    "        sim = x / (x + y + z)\n",
    "        \n",
    "        #Descomentar para mostrar los caminos minimos\n",
    "        #print(xPath,yPath,zPath)\n",
    "        \n",
    "        return sim\n",
    "        \n",
    "        "
   ]
  },
  {
   "cell_type": "code",
   "execution_count": 549,
   "metadata": {},
   "outputs": [],
   "source": [
    "#Crear la taxonomia\n",
    "t = Taxonomy()"
   ]
  },
  {
   "cell_type": "code",
   "execution_count": 550,
   "metadata": {},
   "outputs": [],
   "source": [
    "#Cargar datos de la consulta 1\n",
    "t.load('query.json')"
   ]
  },
  {
   "cell_type": "markdown",
   "metadata": {},
   "source": [
    "### 3) Imprimir un subárbol de la taxonomía\n",
    "\n",
    "Crea una operación _print_tree_ que imprimir la jerarquía de clases a partir de un concepto y hasta un nivel de profundidad determinado.\n",
    "\n",
    "Por ejemplo, a continuación podemos ver el principio de la jerarquía de [voces](https://www.wikidata.org/wiki/Q17172850) con 3 niveles de profundidad:\n",
    "\n",
    "```\n",
    "0 voz (Q17172850)\n",
    "  1 operatic vocal (Q101436564)\n",
    "  1 alto (Q6983813)\n",
    "   2 mezzosoprano ligera (Q6012300)\n",
    "   2 boy alto (Q53395277)\n",
    "   2 alto castrato (Q53395016)\n",
    "   2 contralto (Q37137)\n",
    "  1 contralto (Q37137)\n",
    "   2 contralto cómica (Q5785182)\n",
    "   2 lyric contralto (Q54635214)\n",
    "   2 Tenorino (Q6141663)\n",
    "   2 contralto de coloratura (Q54635184)\n",
    "   2 deep contralto (Q54635335)\n",
    "   2 contralto dramática (Q5785183)\n",
    "  1 bajo (Q27911)\n",
    "   2 heavy acting bass (Q54636271)\n",
    "   2 bajo profundo (Q2532487)\n",
    "   2 bajo buffo (Q1002146)\n",
    "   ...\n",
    "```\n",
    "\n",
    "Como ocurre en todas las grandes bases de conocimiento, dentro de Wikidata hay información que no ha sido bien introducida o está mal clasificada. ¿Puedes encontrar algún ejemplo concreto dentro de la jerarquía de instrumentos?"
   ]
  },
  {
   "cell_type": "code",
   "execution_count": 554,
   "metadata": {},
   "outputs": [
    {
     "name": "stdout",
     "output_type": "stream",
     "text": [
      " 0 voice (Q17172850)\n",
      "   1 bass (Q27911)\n",
      "     2 bass-baritone (Q810480)\n",
      "     2 buffo bass (Q1002146)\n",
      "     2 basso profondo (Q2532487)\n",
      "     2 lyric high bass (Q3636053)\n",
      "     2 Q5885030 (Q5885030)\n",
      "     2 octavist (Q7082656)\n",
      "     2 character bass (Q20638448)\n",
      "     2 high bass (Q54636007)\n",
      "     2 dramatic high bass (Q54636036)\n",
      "     2 serious bass (Q54636068)\n",
      "     2 heavy acting bass (Q54636271)\n",
      "     2 Bass bourdon (Q64363543)\n",
      "   1 baritone (Q31687)\n",
      "     2 bass-baritone (Q810480)\n",
      "     2 character baritone (Q1062931)\n",
      "     2 heldenbaritone (Q1601737)\n",
      "     2 buffo baritone (Q5721499)\n",
      "     2 light baritone (Q5721503)\n",
      "     2 Q5885030 (Q5885030)\n",
      "     2 Lyric baritone (Q8243255)\n",
      "     2 dramatic baritone (Q8243257)\n",
      "     2 baryton-noble (Q19740895)\n",
      "     2 baryton-Martin (Q21478751)\n",
      "     2 Q25404193 (Q25404193)\n",
      "     2 Verdi baritone (Q54635681)\n",
      "     2 acting baritone (Q54635751)\n",
      "     2 Kavalierbariton (Q54635784)\n",
      "   1 contralto (Q37137)\n",
      "     2 acting alto (Q5785182)\n",
      "     2 dramatic contralto (Q5785183)\n",
      "     2 tenorino (Q6141663)\n",
      "     2 coloratura contralto (Q54635184)\n",
      "     2 lyric contralto (Q54635214)\n",
      "     2 deep contralto (Q54635335)\n",
      "   1 mezzo-soprano (Q186506)\n",
      "     2 altmezzo (Q682525)\n",
      "     2 Q1300059 (Q1300059)\n",
      "     2 lyric mezzo-soprano (Q1878954)\n",
      "     2 sopranist (Q1999862)\n",
      "     2 dramatic mezzo-soprano (Q6012297)\n",
      "     2 coloratura mezzo-soprano (Q54634572)\n",
      "     2 light mezzo-soprano (Q54634726)\n",
      "     2 character mezzo-soprano (Q54634862)\n",
      "     2 mezzo-soprano castrato (Q54634945)\n",
      "   1 castrato (Q210970)\n",
      "     2 alto castrato (Q53395016)\n",
      "     2 soprano castrato (Q53830255)\n",
      "     2 mezzo-soprano castrato (Q54634945)\n",
      "   1 countertenor (Q223166)\n",
      "     2 haute-contre (Q1873389)\n",
      "   1 throat singing (Q1067089)\n",
      "   1 child's voice (Q6164901)\n",
      "     2 child soprano (Q53829839)\n",
      "   1 alto (Q6983813)\n",
      "     2 contralto (Q37137)\n",
      "     2 Q6012300 (Q6012300)\n",
      "     2 alto castrato (Q53395016)\n",
      "     2 boy alto (Q53395277)\n",
      "   1 Treble voice (Q25303818)\n",
      "   1 male singing voice (Q54285279)\n",
      "   1 female singing voice (Q54285818)\n",
      "   1 backing vocal (Q60396389)\n",
      "   1 high voice (Q98116969)\n",
      "     2 tenor (Q27914)\n",
      "     2 soprano (Q30903)\n",
      "     2 child soprano (Q53829839)\n",
      "   1 operatic vocal (Q101436564)\n"
     ]
    }
   ],
   "source": [
    "t.print_tree('Q17172850', 0, 2)"
   ]
  },
  {
   "cell_type": "markdown",
   "metadata": {},
   "source": [
    "### 4) Obtener los LCS\n",
    "\n",
    "Crea una operación _lcs_ que devuelva todos los LCS de dos conceptos determinados. Recuerda que un concepto C es LCS(A, B) si es más general que ambos y no se puede especializar más sin dejar de serlo.\n",
    "\n",
    "Para implementarlo seguramente te resulte útil tener otro método que devuelva todos los conceptos más generales que uno dado. _Pista: es fácil de implementar usando operaciones entre conjuntos_. \n",
    "\n",
    "Ejemplos:\n",
    "\n",
    "```\n",
    "mezzosoprano dramática (Q6012297), mezzosoprano ligera (Q54634726), mezzosoprano (Q186506)\n",
    "LCS('Q6012297', 'Q54634726') = {'Q186506'}\n",
    "\n",
    "grave (Q5885030), mezzosoprano ligera (Q6012300), voz (Q17172850)\n",
    "LCS('Q5885030', 'Q6012300') = {'Q17172850'}\n",
    "\n",
    "tenor (Q27914)\n",
    "LCS('Q27914', 'Q27914') = {'Q27914'}\n",
    "\n",
    "viola eléctrica (Q15336282), bajo eléctrico (Q64166304), instrumento de cuerda (Q1798603), electrófono (Q105738), necked box lutes (Q55724840)\n",
    "LCS('Q15336282', 'Q64166304') = {'Q55724840', 'Q105738', 'Q1798603}\n",
    "```"
   ]
  },
  {
   "cell_type": "code",
   "execution_count": 555,
   "metadata": {},
   "outputs": [
    {
     "data": {
      "text/plain": [
       "['Q186506']"
      ]
     },
     "execution_count": 555,
     "metadata": {},
     "output_type": "execute_result"
    }
   ],
   "source": [
    "t.LCS('Q6012297','Q54634726')"
   ]
  },
  {
   "cell_type": "code",
   "execution_count": 556,
   "metadata": {},
   "outputs": [
    {
     "data": {
      "text/plain": [
       "['Q17172850']"
      ]
     },
     "execution_count": 556,
     "metadata": {},
     "output_type": "execute_result"
    }
   ],
   "source": [
    "t.LCS('Q5885030','Q6012300')"
   ]
  },
  {
   "cell_type": "code",
   "execution_count": 557,
   "metadata": {},
   "outputs": [
    {
     "data": {
      "text/plain": [
       "['Q27914']"
      ]
     },
     "execution_count": 557,
     "metadata": {},
     "output_type": "execute_result"
    }
   ],
   "source": [
    "t.LCS('Q27914','Q27914')"
   ]
  },
  {
   "cell_type": "code",
   "execution_count": 558,
   "metadata": {},
   "outputs": [
    {
     "data": {
      "text/plain": [
       "['Q105738', 'Q1798603', 'Q55724840']"
      ]
     },
     "execution_count": 558,
     "metadata": {},
     "output_type": "execute_result"
    }
   ],
   "source": [
    "t.LCS('Q15336282','Q64166304')"
   ]
  },
  {
   "cell_type": "markdown",
   "metadata": {},
   "source": [
    "### 5) Obtener caminos mínimos\n",
    "\n",
    "Crea una operación _path_ que calcule el camino mínimo entre dos conceptos A y B siendo A más o igual de general que B. Como la taxonomía no tiene ciclos puedes implementarlo como una búsqueda en profunidad. Ten en cuenta que los caminos sólo pueden contener conceptos más específicos o iguales a A y más generales o iguales a B.\n",
    "\n",
    "Ejemplos:\n",
    "\n",
    "```\n",
    "path('Q186506', 'Q54634726') = [mezzosoprano (Q186506), mezzosoprano ligera (Q54634726)]\n",
    "\n",
    "path('Q17172850', 'Q6012300') = [voz (Q17172850), alto (Q6983813), mezzosoprano ligera (Q6012300)]\n",
    "\n",
    "path('Q27914', 'Q27914') = [tenor (Q27914)]\n",
    "\n",
    "path('Q34379', 'Q55724840') = [instrumento musical (Q34379), cordófono (Q1051772), composite chordophones (Q19588495), lutes (Q1808578), handle lutes (Q30038759), necked lutes (Q55724833), necked box lutes (Q55724840)]\n",
    " ```"
   ]
  },
  {
   "cell_type": "code",
   "execution_count": 559,
   "metadata": {},
   "outputs": [
    {
     "data": {
      "text/plain": [
       "['mezzo-soprano (Q186506)', 'light mezzo-soprano (Q54634726)']"
      ]
     },
     "execution_count": 559,
     "metadata": {},
     "output_type": "execute_result"
    }
   ],
   "source": [
    "t.path('Q186506', 'Q54634726')"
   ]
  },
  {
   "cell_type": "code",
   "execution_count": 560,
   "metadata": {},
   "outputs": [
    {
     "data": {
      "text/plain": [
       "['voice (Q17172850)', 'alto (Q6983813)', 'Q6012300 (Q6012300)']"
      ]
     },
     "execution_count": 560,
     "metadata": {},
     "output_type": "execute_result"
    }
   ],
   "source": [
    "t.path('Q17172850', 'Q6012300')"
   ]
  },
  {
   "cell_type": "code",
   "execution_count": 561,
   "metadata": {},
   "outputs": [
    {
     "data": {
      "text/plain": [
       "['tenor (Q27914)']"
      ]
     },
     "execution_count": 561,
     "metadata": {},
     "output_type": "execute_result"
    }
   ],
   "source": [
    "t.path('Q27914', 'Q27914')"
   ]
  },
  {
   "cell_type": "code",
   "execution_count": 562,
   "metadata": {},
   "outputs": [
    {
     "data": {
      "text/plain": [
       "['musical instrument (Q34379)',\n",
       " 'chordophone (Q1051772)',\n",
       " 'composite chordophones (Q19588495)',\n",
       " 'lutes (Q1808578)',\n",
       " 'handle lutes (Q30038759)',\n",
       " 'necked lutes (Q55724833)',\n",
       " 'necked box lutes (Q55724840)']"
      ]
     },
     "execution_count": 562,
     "metadata": {},
     "output_type": "execute_result"
    }
   ],
   "source": [
    "t.path('Q34379', 'Q55724840')"
   ]
  },
  {
   "cell_type": "markdown",
   "metadata": {},
   "source": [
    "### 6) Calcular la similitud\n",
    "\n",
    "Implementa una operación _similarity_ que calcule la similtud entre dos conceptos. Debe devolver tanto el valor númerico de similitud como los caminos desde la raiz al LCS y desde el LCS a cada uno de los dos conceptos.\n",
    "\n",
    "Ten en cuenta que debes usar un LCS que maximice el valor de similitud. Si la información de Wikidata no ha cambiado, los valores de similitud deberían coincidir con los que aparecen en los ejemplos pero los caminos no tienen por qué. Y recuerda que no es lo mismo el números de aristas de un camino que el número de nodos del camino.\n",
    "\n",
    "Ejemplos:\n",
    "\n",
    "```\n",
    "similarity('Q6012297', 'Q54634726')\n",
    "0.5\n",
    "[instrumento musical (Q34379), voz (Q17172850), mezzosoprano (Q186506)]\n",
    "[mezzosoprano (Q186506), mezzosoprano dramática (Q6012297)]\n",
    "[mezzosoprano (Q186506), mezzosoprano ligera (Q54634726)]\n",
    "\n",
    "similarity('Q186506', 'Q54634726')\n",
    "0.6666666666666666\n",
    "[instrumento musical (Q34379), voz (Q17172850), mezzosoprano (Q186506)]\n",
    "[mezzosoprano (Q186506)]\n",
    "[mezzosoprano (Q186506), mezzosoprano ligera (Q54634726)]\n",
    "\n",
    "similarity('Q27914', 'Q27914')\n",
    "1.0\n",
    "[instrumento musical (Q34379), voz (Q17172850), high voice (Q98116969), tenor (Q27914)]\n",
    "[tenor (Q27914)]\n",
    "[tenor (Q27914)]\n",
    "\n",
    "similarity('Q76239', 'Q78987')\n",
    "0.42857142857142855\n",
    "[instrumento musical (Q34379), cordófono (Q1051772), instrumento de cuerda (Q1798603), instrumento de cuerda pulsada (Q230262)]\n",
    "[instrumento de cuerda pulsada (Q230262), cítara (Q76239)]\n",
    "[instrumento de cuerda pulsada (Q230262), plucked necked box lutes (Q57306162), guitarra (Q6607), guitarra eléctrica (Q78987)]\n",
    "```"
   ]
  },
  {
   "cell_type": "code",
   "execution_count": 563,
   "metadata": {},
   "outputs": [
    {
     "data": {
      "text/plain": [
       "0.5"
      ]
     },
     "execution_count": 563,
     "metadata": {},
     "output_type": "execute_result"
    }
   ],
   "source": [
    "t.similarity('Q6012297', 'Q54634726')"
   ]
  },
  {
   "cell_type": "code",
   "execution_count": 564,
   "metadata": {},
   "outputs": [
    {
     "data": {
      "text/plain": [
       "0.6666666666666666"
      ]
     },
     "execution_count": 564,
     "metadata": {},
     "output_type": "execute_result"
    }
   ],
   "source": [
    "t.similarity('Q186506', 'Q54634726')"
   ]
  },
  {
   "cell_type": "code",
   "execution_count": 565,
   "metadata": {},
   "outputs": [
    {
     "data": {
      "text/plain": [
       "1.0"
      ]
     },
     "execution_count": 565,
     "metadata": {},
     "output_type": "execute_result"
    }
   ],
   "source": [
    "t.similarity('Q27914', 'Q27914')"
   ]
  },
  {
   "cell_type": "code",
   "execution_count": 566,
   "metadata": {},
   "outputs": [
    {
     "data": {
      "text/plain": [
       "0.42857142857142855"
      ]
     },
     "execution_count": 566,
     "metadata": {},
     "output_type": "execute_result"
    }
   ],
   "source": [
    "t.similarity('Q76239', 'Q78987')"
   ]
  },
  {
   "cell_type": "markdown",
   "metadata": {},
   "source": [
    "### 7) Análisis de las similitudes\n",
    "\n",
    "Calcula la similitud 2 a 2 de los siguientes instrumentos y explica razonadamente si los valores obtenidos tienen sentido de acuerdo a tu intuición sobre si se parecen o no.\n",
    "\n",
    "```\n",
    "piano (Q5994), guitarra (Q6607), guitarra eléctrica (Q78987), flauta (Q11405), trompeta (Q8338)\n",
    "```"
   ]
  },
  {
   "cell_type": "code",
   "execution_count": 567,
   "metadata": {},
   "outputs": [
    {
     "data": {
      "text/plain": [
       "0.2727272727272727"
      ]
     },
     "execution_count": 567,
     "metadata": {},
     "output_type": "execute_result"
    }
   ],
   "source": [
    "#Piano-Guitarra (PG)\n",
    "t.similarity('Q5994','Q6607')"
   ]
  },
  {
   "cell_type": "code",
   "execution_count": 568,
   "metadata": {},
   "outputs": [
    {
     "data": {
      "text/plain": [
       "0.25"
      ]
     },
     "execution_count": 568,
     "metadata": {},
     "output_type": "execute_result"
    }
   ],
   "source": [
    "#Piano-Guitarra electrica (PGE)\n",
    "t.similarity('Q5994','Q78987')"
   ]
  },
  {
   "cell_type": "code",
   "execution_count": 569,
   "metadata": {},
   "outputs": [
    {
     "data": {
      "text/plain": [
       "0.0"
      ]
     },
     "execution_count": 569,
     "metadata": {},
     "output_type": "execute_result"
    }
   ],
   "source": [
    "#Piano-flauta (PF)\n",
    "t.similarity('Q5994','Q11405')"
   ]
  },
  {
   "cell_type": "code",
   "execution_count": 570,
   "metadata": {},
   "outputs": [
    {
     "data": {
      "text/plain": [
       "0.0"
      ]
     },
     "execution_count": 570,
     "metadata": {},
     "output_type": "execute_result"
    }
   ],
   "source": [
    "#Piano-Trompeta (PT)\n",
    "t.similarity('Q5994','Q8338')"
   ]
  },
  {
   "cell_type": "code",
   "execution_count": 571,
   "metadata": {},
   "outputs": [
    {
     "data": {
      "text/plain": [
       "0.8333333333333334"
      ]
     },
     "execution_count": 571,
     "metadata": {},
     "output_type": "execute_result"
    }
   ],
   "source": [
    "#Guitarra-Guitarra electrica (GGE)\n",
    "t.similarity('Q6607','Q78987')"
   ]
  },
  {
   "cell_type": "code",
   "execution_count": 572,
   "metadata": {},
   "outputs": [
    {
     "data": {
      "text/plain": [
       "0.0"
      ]
     },
     "execution_count": 572,
     "metadata": {},
     "output_type": "execute_result"
    }
   ],
   "source": [
    "#Guitarra-Flauta (GF)\n",
    "t.similarity('Q6607','Q11405')"
   ]
  },
  {
   "cell_type": "code",
   "execution_count": 573,
   "metadata": {},
   "outputs": [
    {
     "data": {
      "text/plain": [
       "0.0"
      ]
     },
     "execution_count": 573,
     "metadata": {},
     "output_type": "execute_result"
    }
   ],
   "source": [
    "#Guitarra-Trompeta (GT)\n",
    "t.similarity('Q6607','Q8338')"
   ]
  },
  {
   "cell_type": "code",
   "execution_count": 574,
   "metadata": {},
   "outputs": [
    {
     "data": {
      "text/plain": [
       "0.0"
      ]
     },
     "execution_count": 574,
     "metadata": {},
     "output_type": "execute_result"
    }
   ],
   "source": [
    "#Guitarra electrica-Flauta (GEF)\n",
    "t.similarity('Q78987','Q11405')"
   ]
  },
  {
   "cell_type": "code",
   "execution_count": 575,
   "metadata": {},
   "outputs": [
    {
     "data": {
      "text/plain": [
       "0.0"
      ]
     },
     "execution_count": 575,
     "metadata": {},
     "output_type": "execute_result"
    }
   ],
   "source": [
    "#Guitarra electrica-Trompeta (GET)\n",
    "t.similarity('Q78987','Q8338')"
   ]
  },
  {
   "cell_type": "code",
   "execution_count": 576,
   "metadata": {},
   "outputs": [
    {
     "data": {
      "text/plain": [
       "0.4"
      ]
     },
     "execution_count": 576,
     "metadata": {},
     "output_type": "execute_result"
    }
   ],
   "source": [
    "#Flauta-Trompeta (FT)\n",
    "t.similarity('Q11405','Q8338')"
   ]
  },
  {
   "cell_type": "markdown",
   "metadata": {},
   "source": [
    "#### Resultados\n",
    "\n",
    "<table>\n",
    "  <thead>\n",
    "    <tr>\n",
    "      <th>PG</th>\n",
    "      <th>PGE</th>\n",
    "      <th>PF</th>\n",
    "      <th>PT</th>\n",
    "      <th>GGE</th>\n",
    "      <th>GF</th>\n",
    "      <th>GT</th>\n",
    "      <th>GEF</th>\n",
    "      <th>GET</th>\n",
    "      <th>FT</th>\n",
    "    </tr>\n",
    "  </thead>\n",
    "  <tbody>\n",
    "    <tr>\n",
    "      <td>0.2727272727272727</td>\n",
    "      <td>0.25</td>\n",
    "      <td>0.0</td>\n",
    "      <td>0.0</td>\n",
    "      <td>0.8333333333333334</td>\n",
    "      <td>0.0</td>\n",
    "      <td>0.0</td>\n",
    "      <td>0.0</td>\n",
    "      <td>0.0</td>\n",
    "      <td>0.4</td>\n",
    "    </tr>\n",
    "  </tbody>\n",
    "</table>\n"
   ]
  },
  {
   "cell_type": "markdown",
   "metadata": {},
   "source": [
    "#### Comentarios"
   ]
  },
  {
   "cell_type": "markdown",
   "metadata": {},
   "source": []
  }
 ],
 "metadata": {
  "kernelspec": {
   "display_name": "Python 3",
   "language": "python",
   "name": "python3"
  },
  "language_info": {
   "codemirror_mode": {
    "name": "ipython",
    "version": 3
   },
   "file_extension": ".py",
   "mimetype": "text/x-python",
   "name": "python",
   "nbconvert_exporter": "python",
   "pygments_lexer": "ipython3",
   "version": "3.8.3"
  }
 },
 "nbformat": 4,
 "nbformat_minor": 4
}
