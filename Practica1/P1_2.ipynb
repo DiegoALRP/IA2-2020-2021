{
 "cells": [
  {
   "cell_type": "markdown",
   "metadata": {},
   "source": [
    "#### Número de grupo: \n",
    "  - 5\n",
    "\n",
    "#### Nombre de los integrantes del grupo:\n",
    "  - Gema Blanco Núñez\n",
    "  \n",
    "  - Diego Alejandro Rodríguez Pereira"
   ]
  },
  {
   "cell_type": "markdown",
   "metadata": {},
   "source": [
    "# Práctica 1\n",
    "\n",
    "> __Fecha de entrega: 11 de abril de 2021__\n",
    "\n",
    "\n",
    "## Parte 2: similitud semántica\n",
    "\n",
    "Una de las grandes ventajas de las representaciones estructuradas es que podemos aprovechar su estructura para calcular similitudes semánticas entre las entidades. En esta ocasión vamos a cacular la similitud entre dos conceptos como:\n",
    "\n",
    "$$Sim(A, B) = \\frac{\\delta(root, C)}{\\delta(root, C) + \\delta(C, A) + \\delta(C, B)}$$\n",
    "\n",
    "siendo:\n",
    "\n",
    "- $\\delta(X, Y)$ el __mínimo__ número de aristas que conecta A y B, siendo A más general que B.\n",
    "- $C = LCS(A, B)$ el concepto más específico de la jerarquía que es más general que A y B (_least common subsummer_).\n",
    "\n",
    "La idea tras esta similitud queda reflejada en la siguiente imagen:\n",
    "\n",
    "<img src=\"sim.png\" alt=\"Similitud\" style=\"width: 300px;\"/>\n",
    "\n",
    "En la práctica pueden existir distintos conceptos C que cumplen la definición de _least common subsummer_ de A y B por lo que es necesario definir cuál de ellos vamos a utilizar. En nuestro caso seleccionaremos __uno de los que maximiza el valor de similitud__. "
   ]
  },
  {
   "cell_type": "markdown",
   "metadata": {},
   "source": [
    "### 1) Obtener la taxonomía con la que vamos a trabajar\n",
    "\n",
    "Utiliza el [punto el acceso](https://query.wikidata.org/) SPARQL de Wikidata para ejecutar una consulta que devuelva todos los pares de entidades $(x, y)$ tal que $x$ es subconcepto directo de $y$ y ambos son un tipos de [instrumentos musicales (Q34379)](https://www.wikidata.org/wiki/Q34379). Debes recuperar tantos las URIs de la entidades como sus etiquetas.\n",
    "\n",
    "Escribe en la siguiente celda la consulta que has utilizado comentada adecuadamente."
   ]
  },
  {
   "cell_type": "markdown",
   "metadata": {},
   "source": [
    "#### Fecha consulta: 01/04/2021"
   ]
  },
  {
   "cell_type": "raw",
   "metadata": {},
   "source": [
    "SELECT ?x ?xLabel ?y ?yLabel \n",
    "WHERE { \n",
    "  ?y wdt:P279* wd:Q34379. #Cualquier subclase del tipo instrumento musical\n",
    "  ?x wdt:P279 ?y; #X es subclase del tipo Y, por tanto es subconcepto directo\n",
    "  SERVICE wikibase:label { bd:serviceParam wikibase:language \"[AUTO_LANGUAGE],en\".}\n",
    "}"
   ]
  },
  {
   "cell_type": "markdown",
   "metadata": {},
   "source": [
    "#### Hemos Obtenido:"
   ]
  },
  {
   "cell_type": "markdown",
   "metadata": {},
   "source": [
    "\n",
    "<html><head><meta charset=\"utf-8\"></head><body><table><thead><tr><th>count</th></tr></thead><tbody><tr><td>4543</td></tr></tbody></table></body></html>"
   ]
  },
  {
   "cell_type": "markdown",
   "metadata": {},
   "source": [
    "A continuación descarga todas las respuestas en formato _Archivo JSON_ y guardalo en el mismo directorio de la práctica.\n",
    "\n",
    "_Nota: en el momento de realizar esta práctica obtuve 4727 resultados pero el número puede variar al ser Wikidata una base de conocimiento dinámica._"
   ]
  },
  {
   "cell_type": "markdown",
   "metadata": {},
   "source": [
    "### 2) Cargar la taxonomía en memoria\n",
    "\n",
    "Vamos a cargar la taxonomía de clases en memoria para poder operar con ella. Representaremos la jerarquía de lcases mediantes las siguientes estructuras:\n",
    "\n",
    "- Un diccionario que asocia a cada identificador su etiqueta (por ejemplo 'Q34379' -> 'musical instrument')\n",
    "- Un diccionario que asocia cada clase con sus subclases directas (por ejemplo 'Q695269' -> {'Q25630013', 'Q3388256', 'Q524526', 'Q846109', 'Q960389'} )\n",
    "- Un diccionario que asocia cada clase con sus superclases directas (por ejemplo 'Q34379' -> {'Q1879241', 'Q54820129'} )\n",
    "\n",
    "Tienes libertad para elegir cómo quieres representar la taxonomía en Python:\n",
    "\n",
    "- Puedes usar una clase. En ese caso tendrás que ir añadiendo métodos a la clase para completar cada uno de los apartados de la práctica. Escribe el código de la clase en una única celda y utiliza los métodos que necesites en cada uno de los apartados.\n",
    "- Puedes usar 3 variables globales para representar la taxonomía. En ese caso deberás escribir las operaciones como funciones en cada uno de los apartados de la práctica.\n",
    "\n",
    "En cualquier caso recuerda documentar adecuadamente el código y trata de que sea sencillo de entender.\n",
    "\n",
    "Crea una operación _load_ que reciba el nombre del fichero json y cargue el grafo en memoria usando las estructuras anteriores.\n",
    "\n",
    "```python\n",
    "import json\n",
    "\n",
    "with open(filename) as f:\n",
    "    data = json.load(f)\n",
    "```"
   ]
  },
  {
   "cell_type": "code",
   "execution_count": 2,
   "metadata": {},
   "outputs": [],
   "source": [
    "import json\n",
    "\n",
    "class Taxonomy():\n",
    "    \n",
    "    def __init__(self):\n",
    "        #Creamos 3 diccionarios:\n",
    "        #Diccionario identificadores (clave:identificador, valor:etiqueta)\n",
    "        self.idDict = dict()\n",
    "        #Diccionario de clases de diccionarios de subclases clave:identificador valor:Diccionario(clave:identificador, valor:etiqueta)\n",
    "        #Contiene un diccionario con las clases, y dentro tiene otro diccionario con las clases que son sublclases \n",
    "        #de la clase principal\n",
    "        self.subClassDict = dict(set())\n",
    "        #Diccionario de clases de diccionarios de superclases clave:identificador valor:Diccionario(clave:identificador, valor:etiqueta)\n",
    "        #contiene un diccionario con las clases, y dentro tiene otro diccionario con las clases que son superlclases \n",
    "        #e la clase principal\n",
    "        self.superClassDict = dict(set())\n",
    "    \n",
    "    #########################\n",
    "    #Apartado 2\n",
    "    #########################\n",
    "    \n",
    "    def load(self, filename):\n",
    "        \"\"\" Esta función carga el fichero json para clasificar los instrumentos\n",
    "        en cada uno de los 3 diccionarios\"\"\"\n",
    "        \n",
    "        #Abrimos y cargamos el fichero Json\n",
    "        with open(filename, encoding='utf-8') as f:\n",
    "            data = json.load(f)\n",
    "        \n",
    "        #Por cada valor que este en el fichero\n",
    "        #obtenemos la clase Y junto con su etiqueta\n",
    "        # y obtenemos la clase X junto con su etiqueta\n",
    "        for instrument in data:\n",
    "            \n",
    "            y_aux = instrument['y']\n",
    "            y = y_aux.replace('http://www.wikidata.org/entity/', '')\n",
    "            x_aux = instrument['x']\n",
    "            x = x_aux.replace('http://www.wikidata.org/entity/', '')\n",
    "            yLabel = instrument['yLabel']\n",
    "            xLabel = instrument['xLabel']\n",
    "            \n",
    "            #Añadimos los intrumentos a los 3 diccionarios\n",
    "            self.addID(y, yLabel, x, xLabel)\n",
    "            self.addSubClass(y, yLabel, x, xLabel)\n",
    "            self.addSuperClass(y, yLabel, x, xLabel)\n",
    "    \n",
    "    \n",
    "    def addID(self, y, yLabel, x, xLabel):\n",
    "        \"\"\"Añade las etiquetas al diccionario de identificadores\"\"\"\n",
    "        \n",
    "        self.idDict[y] = yLabel\n",
    "        self.idDict[x] = xLabel\n",
    "    \n",
    "    \n",
    "    def addSubClass(self, y, yLabel, x, xLabel):\n",
    "        \"\"\"Añade la clase x como subclase de y\"\"\"\n",
    "    \n",
    "        #Si ya existe la clase Y en el diccionario, simplemente añadimos a la clase X\n",
    "        #al conjuto (set) de subclases de Y\n",
    "        #Si estamos introduciento la clase Y por primera vez,\n",
    "        #la añadimos al diccionario junto con la creacción del conjunto (set) de elementos\n",
    "        #que serán subclase de Y\n",
    "        if (y in self.subClassDict):\n",
    "            self.subClassDict[y].add(x)\n",
    "        else:\n",
    "            self.subClassDict[y] = {x}\n",
    "            \n",
    "        if (x not in self.subClassDict):\n",
    "            self.subClassDict[x] = set()\n",
    "    \n",
    "    def addSuperClass(self, y, yLabel, x, xLabel):\n",
    "        \"\"\"Añade la clase y como superclase de x\"\"\"\n",
    "        \n",
    "        #Si ya existe la clase X en el diccionario, simplemente añadimos a la clase Y\n",
    "        #al conjuto (set) de superclases de X\n",
    "        #Si estamos introduciento la clase X por primera vez,\n",
    "        #la añadimos al diccionario junto con la creacción del conjunto (set) de elementos\n",
    "        #que serán subclase de Y\n",
    "        if (x in self.superClassDict):\n",
    "            self.superClassDict[x].add(y)\n",
    "        else:\n",
    "            self.superClassDict[x] = {y}\n",
    "\n",
    "    \n",
    "    #########################\n",
    "    #Apartado 3\n",
    "    #########################\n",
    "    \n",
    "    def _print_tree_(self, clase, i, numNiveles):\n",
    "        \"\"\"Función que imprime el subárbol de la taxonomía\n",
    "        Parámetros\n",
    "        clase: es la clase/identidificador a partir del cúal queremos imprimir\n",
    "        i: el nivel por el que va el subárbol, se inicializa a 0\n",
    "        numNiveles: el númerod de niveles que queremos obtener en el subárbol, si este\n",
    "        nivel sobrepasa el de la taxonomía, imprime hasta donde alcance la taxonomía\"\"\"\n",
    "    \n",
    "        #Primero imprimimos la clase inicial\n",
    "        #Luego obtenemos las subclases directas de la clase inicial\n",
    "        #Y llamamos recursivamente a la función para imprimir los siguientes niveles\n",
    "        s = \"\"\n",
    "        for j in range(i):\n",
    "            s += \"  \"\n",
    "        print(s, i,\" \", self.idDict[clase], ' (', clase, ')', sep='')\n",
    "        \n",
    "        if (i < numNiveles - 1):\n",
    "            for instrument in self.subClassDict[clase]:\n",
    "                self._print_tree_(instrument, i + 1, numNiveles)\n",
    "    \n",
    "    \n",
    "    #########################\n",
    "    #Apartado 4\n",
    "    #########################\n",
    "                \n",
    "    def getAllSuperClasses(self, clase, listSuperClasses):\n",
    "        \"\"\"Función que obtiene todas las superclases de una clase\"\"\"\n",
    "        \n",
    "        #Primero verificamos que la clase tenga superclases (que serán todas menos 'musical instruments' Q34379)\n",
    "        #Luego añadimos a cada instrumento a la lista\n",
    "        #Y llamamos recursivamente por si el instrumento tiene a su vez otras superclases\n",
    "        if (clase in self.superClassDict):\n",
    "            for instrument in self.superClassDict[clase]:\n",
    "                listSuperClasses.append(instrument)\n",
    "                self.getAllSuperClasses(instrument, listSuperClasses)\n",
    "    \n",
    "    \n",
    "    \n",
    "    def getAllSubClasses(self, clase, listSubClasses):\n",
    "        \"\"\"Función que obtiene todas las subclases de una clase\"\"\"\n",
    "        \n",
    "        #Primero verificamos que la clase tenga subclase(s)\n",
    "        #Luego añadimos a cada instrumento a la lista\n",
    "        #Y llamamos recursivamente por si el instrumento tiene a su vez otras subclase(s)\n",
    "        if (clase in self.subClassDict):\n",
    "            for instrument in self.subClassDict[clase]:\n",
    "                listSubClasses.append(instrument)\n",
    "                self.getAllSubClasses(instrument, listSubClasses)\n",
    "                \n",
    "                \n",
    "    def LCS(self, classA, classB):\n",
    "        \"\"\"Least Common Subsummer\"\"\"\n",
    "        \n",
    "        #Primero obtenemos dos listas:\n",
    "        #para las superclases de A y para las superclases de B\n",
    "        listSuperClassesA = list() \n",
    "        listSuperClassesA.append(classA)\n",
    "        self.getAllSuperClasses(classA, listSuperClassesA)\n",
    "        listSuperClassesB = list()\n",
    "        listSuperClassesB.append(classB)\n",
    "        self.getAllSuperClasses(classB, listSuperClassesB)\n",
    "        \n",
    "        #Luego creamos una lista con la solución\n",
    "        #Por cada instrumento de A verificamos si este aparece en B.\n",
    "        #Si aparecen quiere decir que comparten ese mismo instrumento/clase/nodo\n",
    "        #Por tanto sólo nos queda verificar que esa clase común no sea más general que\n",
    "        #algunas de las clases ya puestas en como solución. (Ya que queremos la clase/concepto más específico)\n",
    "        #Nota: cabe destacar que las listas están ordenadas por especificidad\n",
    "        sol = list()\n",
    "        for instrument in listSuperClassesA:\n",
    "            if (instrument in listSuperClassesB):\n",
    "                if (self.verify(instrument, sol)):\n",
    "                    sol.append(instrument)\n",
    "        \n",
    "        return (sol)\n",
    "    \n",
    "    \n",
    "    def verify(self, instrument, solution):\n",
    "        \"\"\"Función que verifica que una clase no sea más\n",
    "        específica que otra\"\"\"\n",
    "        \n",
    "        listSubClassesA = list()\n",
    "        listSubClassesA.append(instrument)\n",
    "        self.getAllSubClasses(instrument, listSubClassesA)\n",
    "        \n",
    "        #Si algunas de las clases de la solución aparece como subclase\n",
    "        #del intrumento que queremos añadir, quiere decir que este instrumento\n",
    "        #es más general y por tanto no podemos añadirlo.\n",
    "        encontrado = False\n",
    "        for sol in solution:\n",
    "            if sol in listSubClassesA:\n",
    "                encontrado = True\n",
    "        \n",
    "        return (not encontrado)\n",
    "    \n",
    "    \n",
    "    #########################\n",
    "    #Apartado 5\n",
    "    #########################\n",
    "    \n",
    "    \"\"\"Función que encuentra el camino mínimo entre A y B\"\"\"\n",
    "    def path(self, A, B):\n",
    "        sol = list()\n",
    "        self.minDistance = 0\n",
    "        self.minPath = list()\n",
    "        self.minPath.append(A)\n",
    "        \n",
    "        if(A != B): #Encontrar camino hasta B desde A\n",
    "            path = self.minPath.copy()\n",
    "            distance = 1\n",
    "            self.find_path(A, B, distance, path) \n",
    "            \n",
    "        for i in self.minPath:\n",
    "            sol.append(self.idDict[i]+' ('+i+')')\n",
    "       \n",
    "        return sol\n",
    "                \n",
    "\n",
    "    \"\"\"Función recursiva auxiliar para encontrar el camino mínimo\"\"\"            \n",
    "    def find_path(self, A, B, distance, path):\n",
    "        \n",
    "        if A in self.subClassDict:\n",
    "            for i in self.subClassDict[A]: #Recorrido en anchura\n",
    "                path.append(i) \n",
    "                \n",
    "                #Si encontramos a B devolvemos el camino con la distancia\n",
    "                #Si todavia no encontramos a B seguimos buscando en profundidad\n",
    "                if i == B: \n",
    "                    if self.minDistance == 0 or distance < self.minDistance:\n",
    "                        self.minPath = path.copy()\n",
    "                        self.minDistance = distance\n",
    "\n",
    "                else:  #Recorrido en profundidad\n",
    "                    self.find_path(i, B, distance+1, path)\n",
    "                    \n",
    "                path.remove(i)\n",
    "    \n",
    "    \n",
    "    #########################\n",
    "    #Apartado 6\n",
    "    #########################\n",
    "    \n",
    "    #Comentarios abajo del def\n",
    "    def similarity(self, A, B):\n",
    "        \"\"\"Función que calcula la similitud entre dos conceptos A y B.\n",
    "        Dicha similitud se calcula con la fórmula al inicio de este documento.\"\"\"   \n",
    "        C = self.LCS(A,B)\n",
    "        root = 'Q34379'\n",
    "        for i in C:\n",
    "            xPath = self.path(root,i) #Camino minimo entre la raiz y C\n",
    "            x = self.minDistance\n",
    "            yPath = self.path(i,A)    #Camino minimo entre C y A\n",
    "            y = self.minDistance\n",
    "            zPath = self.path(i,B)    #Camino minimo entre C y B\n",
    "            z = self.minDistance\n",
    "\n",
    "        \n",
    "        #Aplicar formula para obtener la similitud entre A y B\n",
    "        sim = x / (x + y + z)\n",
    "        \n",
    "        #Descomentar para mostrar los caminos minimos\n",
    "        print(xPath,yPath,zPath)\n",
    "        \n",
    "        return sim\n",
    "    \n",
    "    "
   ]
  },
  {
   "cell_type": "markdown",
   "metadata": {},
   "source": [
    "#### Crear la taxonomia"
   ]
  },
  {
   "cell_type": "code",
   "execution_count": null,
   "metadata": {},
   "outputs": [],
   "source": [
    "t = Taxonomy()"
   ]
  },
  {
   "cell_type": "markdown",
   "metadata": {},
   "source": [
    "#### Cargar datos de la consulta 1"
   ]
  },
  {
   "cell_type": "code",
   "execution_count": null,
   "metadata": {},
   "outputs": [],
   "source": [
    "t.load('query.json')"
   ]
  },
  {
   "cell_type": "markdown",
   "metadata": {},
   "source": [
    "### 3) Imprimir un subárbol de la taxonomía\n",
    "\n",
    "Crea una operación _print_tree_ que imprimir la jerarquía de clases a partir de un concepto y hasta un nivel de profundidad determinado.\n",
    "\n",
    "Por ejemplo, a continuación podemos ver el principio de la jerarquía de [voces](https://www.wikidata.org/wiki/Q17172850) con 3 niveles de profundidad:\n",
    "\n",
    "```\n",
    "0 voz (Q17172850)\n",
    "  1 operatic vocal (Q101436564)\n",
    "  1 alto (Q6983813)\n",
    "   2 mezzosoprano ligera (Q6012300)\n",
    "   2 boy alto (Q53395277)\n",
    "   2 alto castrato (Q53395016)\n",
    "   2 contralto (Q37137)\n",
    "  1 contralto (Q37137)\n",
    "   2 contralto cómica (Q5785182)\n",
    "   2 lyric contralto (Q54635214)\n",
    "   2 Tenorino (Q6141663)\n",
    "   2 contralto de coloratura (Q54635184)\n",
    "   2 deep contralto (Q54635335)\n",
    "   2 contralto dramática (Q5785183)\n",
    "  1 bajo (Q27911)\n",
    "   2 heavy acting bass (Q54636271)\n",
    "   2 bajo profundo (Q2532487)\n",
    "   2 bajo buffo (Q1002146)\n",
    "   ...\n",
    "```\n",
    "\n",
    "Como ocurre en todas las grandes bases de conocimiento, dentro de Wikidata hay información que no ha sido bien introducida o está mal clasificada. ¿Puedes encontrar algún ejemplo concreto dentro de la jerarquía de instrumentos?"
   ]
  },
  {
   "cell_type": "markdown",
   "metadata": {},
   "source": [
    "#### Algunas de los conceptos que hemos encontrado\n",
    "\n",
    "Este es el caso en el que se añadió una clase al lenguaje en español, ya existiendo otra versión en otros lenguajes. Y como estos dos identificadores están clasificados de forma distinta, el 'Q54634726' aparece como subclase de mezzo-soprano (Q186506) y 'Q6012300' aparece como subclase de alto (Q6983813) entonces para Wikidata son distintos\n",
    "\n",
    "mezzosoprano ligera (Q54634726)\n",
    "\n",
    "mezzosoprano ligera (Q6012300)"
   ]
  },
  {
   "cell_type": "markdown",
   "metadata": {},
   "source": [
    "#### Jerarquía Voces con 3 niveles de profundidad"
   ]
  },
  {
   "cell_type": "code",
   "execution_count": null,
   "metadata": {},
   "outputs": [],
   "source": [
    "t._print_tree_('Q17172850', 0, 3)"
   ]
  },
  {
   "cell_type": "markdown",
   "metadata": {},
   "source": [
    "#### Jerarquía Viola Eléctrica"
   ]
  },
  {
   "cell_type": "code",
   "execution_count": null,
   "metadata": {},
   "outputs": [],
   "source": [
    "t._print_tree_('Q15336282', 0, 100)"
   ]
  },
  {
   "cell_type": "markdown",
   "metadata": {},
   "source": [
    "#### Jerarquía Instrumento Musical"
   ]
  },
  {
   "cell_type": "code",
   "execution_count": null,
   "metadata": {},
   "outputs": [],
   "source": [
    "t._print_tree_('Q34379', 0, 100)"
   ]
  },
  {
   "cell_type": "markdown",
   "metadata": {},
   "source": [
    "### 4) Obtener los LCS\n",
    "\n",
    "Crea una operación _lcs_ que devuelva todos los LCS de dos conceptos determinados. Recuerda que un concepto C es LCS(A, B) si es más general que ambos y no se puede especializar más sin dejar de serlo.\n",
    "\n",
    "Para implementarlo seguramente te resulte útil tener otro método que devuelva todos los conceptos más generales que uno dado. _Pista: es fácil de implementar usando operaciones entre conjuntos_. \n",
    "\n",
    "Ejemplos:\n",
    "\n",
    "```\n",
    "mezzosoprano dramática (Q6012297), mezzosoprano ligera (Q54634726), mezzosoprano (Q186506)\n",
    "LCS('Q6012297', 'Q54634726') = {'Q186506'}\n",
    "\n",
    "grave (Q5885030), mezzosoprano ligera (Q6012300), voz (Q17172850)\n",
    "LCS('Q5885030', 'Q6012300') = {'Q17172850'}\n",
    "\n",
    "tenor (Q27914)\n",
    "LCS('Q27914', 'Q27914') = {'Q27914'}\n",
    "\n",
    "viola eléctrica (Q15336282), bajo eléctrico (Q64166304), instrumento de cuerda (Q1798603), electrófono (Q105738), necked box lutes (Q55724840)\n",
    "LCS('Q15336282', 'Q64166304') = {'Q55724840', 'Q105738', 'Q1798603}\n",
    "```"
   ]
  },
  {
   "cell_type": "markdown",
   "metadata": {},
   "source": [
    "#### LCS(mezzosoprano dramática (Q6012297), mezzosoprano ligera (Q54634726)) = mezzosoprano (Q186506)"
   ]
  },
  {
   "cell_type": "code",
   "execution_count": null,
   "metadata": {},
   "outputs": [],
   "source": [
    "t.LCS('Q6012297','Q54634726')"
   ]
  },
  {
   "cell_type": "markdown",
   "metadata": {},
   "source": [
    "#### LCS(grave (Q5885030), mezzosoprano ligera (Q6012300)) = voz (Q17172850)"
   ]
  },
  {
   "cell_type": "code",
   "execution_count": null,
   "metadata": {},
   "outputs": [],
   "source": [
    "t.LCS('Q5885030','Q6012300')"
   ]
  },
  {
   "cell_type": "markdown",
   "metadata": {},
   "source": [
    "#### LCS(tenor (Q27914), tenor (Q27914))"
   ]
  },
  {
   "cell_type": "code",
   "execution_count": null,
   "metadata": {},
   "outputs": [],
   "source": [
    "t.LCS('Q27914','Q27914')"
   ]
  },
  {
   "cell_type": "markdown",
   "metadata": {},
   "source": [
    "#### LCS(viola eléctrica (Q15336282), bajo eléctrico (Q64166304)) = {instrumento de cuerda (Q1798603), electrófono (Q105738), necked box lutes (Q55724840)}"
   ]
  },
  {
   "cell_type": "code",
   "execution_count": null,
   "metadata": {},
   "outputs": [],
   "source": [
    "t.LCS('Q15336282','Q64166304')"
   ]
  },
  {
   "cell_type": "markdown",
   "metadata": {},
   "source": [
    "### 5) Obtener caminos mínimos\n",
    "\n",
    "Crea una operación _path_ que calcule el camino mínimo entre dos conceptos A y B siendo A más o igual de general que B. Como la taxonomía no tiene ciclos puedes implementarlo como una búsqueda en profunidad. Ten en cuenta que los caminos sólo pueden contener conceptos más específicos o iguales a A y más generales o iguales a B.\n",
    "\n",
    "Ejemplos:\n",
    "\n",
    "```\n",
    "path('Q186506', 'Q54634726') = [mezzosoprano (Q186506), mezzosoprano ligera (Q54634726)]\n",
    "\n",
    "path('Q17172850', 'Q6012300') = [voz (Q17172850), alto (Q6983813), mezzosoprano ligera (Q6012300)]\n",
    "\n",
    "path('Q27914', 'Q27914') = [tenor (Q27914)]\n",
    "\n",
    "path('Q34379', 'Q55724840') = [instrumento musical (Q34379), cordófono (Q1051772), composite chordophones (Q19588495), lutes (Q1808578), handle lutes (Q30038759), necked lutes (Q55724833), necked box lutes (Q55724840)]\n",
    " ```"
   ]
  },
  {
   "cell_type": "code",
   "execution_count": null,
   "metadata": {},
   "outputs": [],
   "source": []
  },
  {
   "cell_type": "markdown",
   "metadata": {},
   "source": [
    "#### path('Q186506', 'Q54634726') = [mezzosoprano (Q186506), mezzosoprano ligera (Q54634726)]"
   ]
  },
  {
   "cell_type": "code",
   "execution_count": null,
   "metadata": {},
   "outputs": [],
   "source": [
    "t.path('Q186506', 'Q54634726')"
   ]
  },
  {
   "cell_type": "markdown",
   "metadata": {},
   "source": [
    "#### path('Q17172850', 'Q6012300') = [voz (Q17172850), alto (Q6983813), mezzosoprano ligera (Q6012300)]"
   ]
  },
  {
   "cell_type": "code",
   "execution_count": null,
   "metadata": {},
   "outputs": [],
   "source": [
    "t.path('Q17172850', 'Q6012300')"
   ]
  },
  {
   "cell_type": "markdown",
   "metadata": {},
   "source": [
    "#### path('Q27914', 'Q27914') = [tenor (Q27914)]"
   ]
  },
  {
   "cell_type": "code",
   "execution_count": null,
   "metadata": {},
   "outputs": [],
   "source": [
    "t.path('Q27914', 'Q27914')"
   ]
  },
  {
   "cell_type": "markdown",
   "metadata": {},
   "source": [
    "#### path('Q34379', 'Q105738') = [instrumento musical (Q34379), cordófono (Q1051772), composite chordophones (Q19588495), lutes (Q1808578), handle lutes (Q30038759), necked lutes (Q55724833), necked box lutes (Q55724840)]"
   ]
  },
  {
   "cell_type": "code",
   "execution_count": null,
   "metadata": {},
   "outputs": [],
   "source": [
    "t.path('Q34379', 'Q55724840')"
   ]
  },
  {
   "cell_type": "markdown",
   "metadata": {},
   "source": [
    "### 6) Calcular la similitud\n",
    "\n",
    "Implementa una operación _similarity_ que calcule la similtud entre dos conceptos. Debe devolver tanto el valor númerico de similitud como los caminos desde la raiz al LCS y desde el LCS a cada uno de los dos conceptos.\n",
    "\n",
    "Ten en cuenta que debes usar un LCS que maximice el valor de similitud. Si la información de Wikidata no ha cambiado, los valores de similitud deberían coincidir con los que aparecen en los ejemplos pero los caminos no tienen por qué. Y recuerda que no es lo mismo el números de aristas de un camino que el número de nodos del camino.\n",
    "\n",
    "Ejemplos:\n",
    "\n",
    "```\n",
    "similarity('Q6012297', 'Q54634726')\n",
    "0.5\n",
    "[instrumento musical (Q34379), voz (Q17172850), mezzosoprano (Q186506)]\n",
    "[mezzosoprano (Q186506), mezzosoprano dramática (Q6012297)]\n",
    "[mezzosoprano (Q186506), mezzosoprano ligera (Q54634726)]\n",
    "\n",
    "similarity('Q186506', 'Q54634726')\n",
    "0.6666666666666666\n",
    "[instrumento musical (Q34379), voz (Q17172850), mezzosoprano (Q186506)]\n",
    "[mezzosoprano (Q186506)]\n",
    "[mezzosoprano (Q186506), mezzosoprano ligera (Q54634726)]\n",
    "\n",
    "similarity('Q27914', 'Q27914')\n",
    "1.0\n",
    "[instrumento musical (Q34379), voz (Q17172850), high voice (Q98116969), tenor (Q27914)]\n",
    "[tenor (Q27914)]\n",
    "[tenor (Q27914)]\n",
    "\n",
    "similarity('Q76239', 'Q78987')\n",
    "0.42857142857142855\n",
    "[instrumento musical (Q34379), cordófono (Q1051772), instrumento de cuerda (Q1798603), instrumento de cuerda pulsada (Q230262)]\n",
    "[instrumento de cuerda pulsada (Q230262), cítara (Q76239)]\n",
    "[instrumento de cuerda pulsada (Q230262), plucked necked box lutes (Q57306162), guitarra (Q6607), guitarra eléctrica (Q78987)]\n",
    "```"
   ]
  },
  {
   "cell_type": "markdown",
   "metadata": {},
   "source": [
    "#### similarity('Q6012297', 'Q54634726')"
   ]
  },
  {
   "cell_type": "code",
   "execution_count": null,
   "metadata": {},
   "outputs": [],
   "source": [
    "t.similarity('Q6012297', 'Q54634726')"
   ]
  },
  {
   "cell_type": "markdown",
   "metadata": {},
   "source": [
    "#### similarity('Q186506', 'Q54634726')"
   ]
  },
  {
   "cell_type": "code",
   "execution_count": null,
   "metadata": {},
   "outputs": [],
   "source": [
    "t.similarity('Q186506', 'Q54634726')"
   ]
  },
  {
   "cell_type": "markdown",
   "metadata": {},
   "source": [
    "#### similarity('Q27914', 'Q27914')"
   ]
  },
  {
   "cell_type": "code",
   "execution_count": null,
   "metadata": {},
   "outputs": [],
   "source": [
    "t.similarity('Q27914', 'Q27914')"
   ]
  },
  {
   "cell_type": "markdown",
   "metadata": {},
   "source": [
    "#### similarity('Q76239', 'Q78987')"
   ]
  },
  {
   "cell_type": "code",
   "execution_count": null,
   "metadata": {},
   "outputs": [],
   "source": [
    "t.similarity('Q76239', 'Q78987')"
   ]
  },
  {
   "cell_type": "markdown",
   "metadata": {},
   "source": [
    "### 7) Análisis de las similitudes\n",
    "\n",
    "Calcula la similitud 2 a 2 de los siguientes instrumentos y explica razonadamente si los valores obtenidos tienen sentido de acuerdo a tu intuición sobre si se parecen o no.\n",
    "\n",
    "```\n",
    "piano (Q5994), guitarra (Q6607), guitarra eléctrica (Q78987), flauta (Q11405), trompeta (Q8338)\n",
    "```"
   ]
  },
  {
   "cell_type": "markdown",
   "metadata": {},
   "source": [
    "### Piano"
   ]
  },
  {
   "cell_type": "markdown",
   "metadata": {},
   "source": [
    "#### Piano - Piano (PP)"
   ]
  },
  {
   "cell_type": "code",
   "execution_count": null,
   "metadata": {},
   "outputs": [],
   "source": [
    "t.similarity('Q5994', 'Q5994')"
   ]
  },
  {
   "cell_type": "markdown",
   "metadata": {},
   "source": [
    "#### Piano - Guitarra (PG)"
   ]
  },
  {
   "cell_type": "code",
   "execution_count": null,
   "metadata": {},
   "outputs": [],
   "source": [
    "t.similarity('Q5994', 'Q6607')"
   ]
  },
  {
   "cell_type": "markdown",
   "metadata": {},
   "source": [
    "#### Piano - Guitarra Eléctrica (PGE)"
   ]
  },
  {
   "cell_type": "code",
   "execution_count": null,
   "metadata": {},
   "outputs": [],
   "source": [
    "t.similarity('Q5994', 'Q78987')"
   ]
  },
  {
   "cell_type": "markdown",
   "metadata": {},
   "source": [
    "#### Piano - Flauta (PF)"
   ]
  },
  {
   "cell_type": "code",
   "execution_count": null,
   "metadata": {},
   "outputs": [],
   "source": [
    "t.similarity('Q5994', 'Q11405')"
   ]
  },
  {
   "cell_type": "markdown",
   "metadata": {},
   "source": [
    "#### Piano - Trompeta (PT)"
   ]
  },
  {
   "cell_type": "code",
   "execution_count": null,
   "metadata": {},
   "outputs": [],
   "source": [
    "t.similarity('Q5994', 'Q8338')"
   ]
  },
  {
   "cell_type": "markdown",
   "metadata": {},
   "source": [
    "### Guitarra"
   ]
  },
  {
   "cell_type": "markdown",
   "metadata": {},
   "source": [
    "#### Guitarra - Guitarra (GGE)"
   ]
  },
  {
   "cell_type": "code",
   "execution_count": null,
   "metadata": {},
   "outputs": [],
   "source": [
    "t.similarity('Q6607', 'Q6607')"
   ]
  },
  {
   "cell_type": "markdown",
   "metadata": {},
   "source": [
    "#### Guitarra - Guitarra Eléctrica (GGE)"
   ]
  },
  {
   "cell_type": "code",
   "execution_count": null,
   "metadata": {},
   "outputs": [],
   "source": [
    "t.similarity('Q78987', 'Q6607')"
   ]
  },
  {
   "cell_type": "markdown",
   "metadata": {},
   "source": [
    "#### Guitarra - Flauta (GF)"
   ]
  },
  {
   "cell_type": "code",
   "execution_count": null,
   "metadata": {},
   "outputs": [],
   "source": [
    "t.similarity('Q6607', 'Q11405')"
   ]
  },
  {
   "cell_type": "markdown",
   "metadata": {},
   "source": [
    "#### Guitarra - Trompeta (GT)"
   ]
  },
  {
   "cell_type": "code",
   "execution_count": null,
   "metadata": {},
   "outputs": [],
   "source": [
    "t.similarity('Q6607', 'Q8338')"
   ]
  },
  {
   "cell_type": "markdown",
   "metadata": {},
   "source": [
    "### Guitarra Eléctrica"
   ]
  },
  {
   "cell_type": "markdown",
   "metadata": {},
   "source": [
    "#### Guitarra Eléctrica - Guitarra Eléctrica (GEGE)"
   ]
  },
  {
   "cell_type": "code",
   "execution_count": null,
   "metadata": {},
   "outputs": [],
   "source": [
    "t.similarity('Q78987', 'Q78987')"
   ]
  },
  {
   "cell_type": "markdown",
   "metadata": {},
   "source": [
    "#### Guitarra Eléctrica - Flauta (GEF)"
   ]
  },
  {
   "cell_type": "code",
   "execution_count": null,
   "metadata": {},
   "outputs": [],
   "source": [
    "t.similarity('Q78987', 'Q11405')"
   ]
  },
  {
   "cell_type": "markdown",
   "metadata": {},
   "source": [
    "#### Guitarra Eléctrica - Trompeta (GET)"
   ]
  },
  {
   "cell_type": "code",
   "execution_count": null,
   "metadata": {},
   "outputs": [],
   "source": [
    "t.similarity('Q78987', 'Q8338')"
   ]
  },
  {
   "cell_type": "markdown",
   "metadata": {},
   "source": [
    "### Flauta"
   ]
  },
  {
   "cell_type": "markdown",
   "metadata": {},
   "source": [
    "#### Flauta - Flauta (FF)"
   ]
  },
  {
   "cell_type": "code",
   "execution_count": null,
   "metadata": {},
   "outputs": [],
   "source": [
    "t.similarity('Q11405', 'Q11405')"
   ]
  },
  {
   "cell_type": "markdown",
   "metadata": {},
   "source": [
    "#### Flauta - Trompeta (FT)"
   ]
  },
  {
   "cell_type": "code",
   "execution_count": null,
   "metadata": {},
   "outputs": [],
   "source": [
    "t.similarity('Q11405', 'Q8338')"
   ]
  },
  {
   "cell_type": "markdown",
   "metadata": {},
   "source": [
    "### Trompeta"
   ]
  },
  {
   "cell_type": "markdown",
   "metadata": {},
   "source": [
    "#### Trompeta - Trompeta (TT)"
   ]
  },
  {
   "cell_type": "code",
   "execution_count": null,
   "metadata": {},
   "outputs": [],
   "source": [
    "t.similarity('Q8338', 'Q8338')"
   ]
  },
  {
   "cell_type": "markdown",
   "metadata": {},
   "source": [
    "#### Resultados\n",
    "\n",
    "<table>\n",
    "  <thead>\n",
    "    <tr>\n",
    "      <th>PP</th>\n",
    "      <th>PG</th>\n",
    "      <th>PGE</th>\n",
    "      <th>PF</th>\n",
    "      <th>PT</th>\n",
    "      <th>GG</th>\n",
    "      <th>GGE</th>\n",
    "      <th>GF</th>\n",
    "      <th>GT</th>\n",
    "      <th>GEGE</th>\n",
    "      <th>GEF</th>\n",
    "      <th>GET</th>\n",
    "      <th>FF</th>\n",
    "      <th>FT</th>\n",
    "      <th>TT</th>\n",
    "    </tr>\n",
    "  </thead>\n",
    "  <tbody>\n",
    "    <tr>\n",
    "      <td>1.0</td>\n",
    "      <td>0.2727272727272727</td>\n",
    "      <td>0.25</td>\n",
    "      <td>0.0</td>\n",
    "      <td>0.0</td>\n",
    "      <td>1.0</td>\n",
    "      <td>0.8333333333333334</td>\n",
    "      <td>0.0</td>\n",
    "      <td>0.0</td>\n",
    "      <td>1.0</td>\n",
    "      <td>0.0</td>\n",
    "      <td>0.0</td>\n",
    "      <td>1.0</td>\n",
    "      <td>0.4</td>\n",
    "      <td>1.0</td>\n",
    "    </tr>\n",
    "  </tbody>\n",
    "</table>"
   ]
  },
  {
   "cell_type": "markdown",
   "metadata": {},
   "source": [
    "## Conclusiones\n",
    "\n",
    "Como hemos visto en teoría, el cálculo de similitud es simétrico. Por tanto aplicar similitud(Piano, Guitarra) es lo mismo que similitud(Guitarra, Piano)\n",
    "\n",
    "Para obtener un grado de similitud máximo, se obtiene únicamente haciendo el cálculo consigo mismo, por tanto similitud(Piano, Piano) nos devuelve similitud 1, confirmando de esta manera que son la misma clase.\n",
    "\n",
    "- Piano:\n",
    "    Consideramos que las similitudes de Piano con el resto son justas, a pesar de que consideramos que su similitud con Trompeta y Flauta son muy bajas.\n",
    "    Pensamos así, ya que en el caso con la Guitarra, ambos instrumentos son de cuerda. Mientras que los otros dos son de viento. Con el caso de Guitarra Eléctrica, tiene sentido que tenga menos similitud, ya que se asemeja más a un piano eléctrico que al piano clásico.\n",
    "    \n",
    "    \n",
    "- Guitarra y Guitarra Eléctrica:\n",
    "    Concordarmos en que su similitud sea bastante alta, ya que Guitarra Eléctrica es subclase directa de Guitarra. Y cuando comparamos estos dos fuera de la taxonomía es lógico que tengan similitud.\n",
    "    Su similitud con Trompeta y Flauta es 0, ya que sucede como en piano, Guitarra y Guitarra Eléctrica son instrumentos de cuerda, mientras que los otros dos son de viento.\n",
    "    \n",
    "    \n",
    "- Flauta y Trompeta:\n",
    "    Entre ellos dos guardan una mayor similitud, ya que ambos tienen sus parecidos, como lo es ser intrumento de viento.\n",
    "    "
   ]
  }
 ],
 "metadata": {
  "kernelspec": {
   "display_name": "Python 3",
   "language": "python",
   "name": "python3"
  },
  "language_info": {
   "codemirror_mode": {
    "name": "ipython",
    "version": 3
   },
   "file_extension": ".py",
   "mimetype": "text/x-python",
   "name": "python",
   "nbconvert_exporter": "python",
   "pygments_lexer": "ipython3",
   "version": "3.6.5"
  }
 },
 "nbformat": 4,
 "nbformat_minor": 4
}
